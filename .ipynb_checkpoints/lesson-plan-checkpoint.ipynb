{
 "cells": [
  {
   "cell_type": "markdown",
   "metadata": {},
   "source": [
    "### Questions\n",
    "* breadth vs depth recursive functions\n",
    "* wording may have been switched in descriptions"
   ]
  },
  {
   "cell_type": "markdown",
   "metadata": {},
   "source": [
    "### Objectives\n",
    "YWBAT \n",
    "* parse a json for various informatoin\n",
    "* parse jsons and load them into dataframes\n",
    "* build a recursive function"
   ]
  },
  {
   "cell_type": "markdown",
   "metadata": {},
   "source": [
    "### Outline\n",
    "* questions\n",
    "* solve some recursive stuff\n",
    "* load in a json from a tweet\n",
    "* parse the json\n",
    "* use some tools online to see the structure\n",
    "* use a loop to parse jsons and load them into a df"
   ]
  },
  {
   "cell_type": "code",
   "execution_count": 80,
   "metadata": {},
   "outputs": [],
   "source": [
    "import pandas as pd\n",
    "import numpy as np\n",
    "\n",
    "from textblob import TextBlob\n",
    "\n",
    "from pprint import pprint\n",
    "\n",
    "from pymongo import MongoClient\n",
    "\n",
    "import matplotlib.pyplot as plt"
   ]
  },
  {
   "cell_type": "code",
   "execution_count": 27,
   "metadata": {},
   "outputs": [],
   "source": [
    "# triangle numbers\n",
    "# t1 = 1\n",
    "# t2 = 1 + 2 = 3\n",
    "# t3 = 1 + 2 + 3 = 6\n",
    "# t4 = 1 + 2 + 3 + 4 = 10\n",
    "# t5 = 1 + ... + 5 = 15\n",
    "# t6 = 1 + ... + 6 = 21\n",
    "\n",
    "def triangle(n):\n",
    "    s = 0\n",
    "    for i in range(1, n + 1):\n",
    "        s += i\n",
    "    return s\n",
    "\n",
    "\n",
    "def triangle_rec(n):\n",
    "    if n == 1: \n",
    "        return 1\n",
    "    return n + triangle_rec(n - 1)"
   ]
  },
  {
   "cell_type": "code",
   "execution_count": 38,
   "metadata": {},
   "outputs": [
    {
     "name": "stdout",
     "output_type": "stream",
     "text": [
      "CPU times: user 375 µs, sys: 1e+03 ns, total: 376 µs\n",
      "Wall time: 385 µs\n"
     ]
    },
    {
     "data": {
      "text/plain": [
       "500500"
      ]
     },
     "execution_count": 38,
     "metadata": {},
     "output_type": "execute_result"
    }
   ],
   "source": [
    "%%time\n",
    "triangle_rec(1000)"
   ]
  },
  {
   "cell_type": "code",
   "execution_count": 39,
   "metadata": {},
   "outputs": [
    {
     "name": "stdout",
     "output_type": "stream",
     "text": [
      "CPU times: user 55 µs, sys: 1 µs, total: 56 µs\n",
      "Wall time: 60.1 µs\n"
     ]
    },
    {
     "data": {
      "text/plain": [
       "500500"
      ]
     },
     "execution_count": 39,
     "metadata": {},
     "output_type": "execute_result"
    }
   ],
   "source": [
    "%%time\n",
    "triangle(1000)"
   ]
  },
  {
   "cell_type": "code",
   "execution_count": 48,
   "metadata": {},
   "outputs": [],
   "source": [
    "# Fibonacci sequence\n",
    "# F0 = 0\n",
    "# F1 = 1\n",
    "# F2 = 1\n",
    "# F3 = 2\n",
    "# F4 = 3\n",
    "# F5 = 5\n",
    "# 0, 1, 1, 2, 3, 5, 8, 13, 21, ...\n",
    "\n",
    "def fib(n):\n",
    "    if n == 0:\n",
    "        return 0\n",
    "    if n == 1:\n",
    "        return 1\n",
    "    if n == 2:\n",
    "        return 1\n",
    "    if n == 3:\n",
    "        return 2\n",
    "    return fib(n - 1) + fib(n - 2)"
   ]
  },
  {
   "cell_type": "code",
   "execution_count": 49,
   "metadata": {},
   "outputs": [
    {
     "data": {
      "text/plain": [
       "55"
      ]
     },
     "execution_count": 49,
     "metadata": {},
     "output_type": "execute_result"
    }
   ],
   "source": [
    "fib(10)"
   ]
  },
  {
   "cell_type": "code",
   "execution_count": 50,
   "metadata": {},
   "outputs": [],
   "source": [
    "# load in some tweets using mongodb"
   ]
  },
  {
   "cell_type": "code",
   "execution_count": 52,
   "metadata": {},
   "outputs": [],
   "source": [
    "client = MongoClient(host='localhost', port=27017)"
   ]
  },
  {
   "cell_type": "code",
   "execution_count": 54,
   "metadata": {},
   "outputs": [
    {
     "data": {
      "text/plain": [
       "['admin',\n",
       " 'config',\n",
       " 'local',\n",
       " 'marchmadness',\n",
       " 'music_tweets',\n",
       " 'mydb',\n",
       " 'new_db',\n",
       " 'tweets']"
      ]
     },
     "execution_count": 54,
     "metadata": {},
     "output_type": "execute_result"
    }
   ],
   "source": [
    "client.list_database_names()"
   ]
  },
  {
   "cell_type": "code",
   "execution_count": 55,
   "metadata": {},
   "outputs": [],
   "source": [
    "music_tweets = client[\"music_tweets\"]"
   ]
  },
  {
   "cell_type": "code",
   "execution_count": 56,
   "metadata": {},
   "outputs": [
    {
     "data": {
      "text/plain": [
       "['kendrickLamar']"
      ]
     },
     "execution_count": 56,
     "metadata": {},
     "output_type": "execute_result"
    }
   ],
   "source": [
    "music_tweets.list_collection_names()"
   ]
  },
  {
   "cell_type": "code",
   "execution_count": 57,
   "metadata": {},
   "outputs": [],
   "source": [
    "kdot = music_tweets[\"kendrickLamar\"]"
   ]
  },
  {
   "cell_type": "code",
   "execution_count": 77,
   "metadata": {},
   "outputs": [],
   "source": [
    "# load this data into a dataframe\n",
    "dlist = []\n",
    "\n",
    "for res in kdot.find({}): # equivalent of a select * from kendrickLamar;\n",
    "    d = {}\n",
    "    d[\"retweet_count\"] = res[\"retweet_count\"]\n",
    "    d[\"text\"] = res[\"text\"]\n",
    "    d[\"reply_count\"] = res[\"reply_count\"]\n",
    "    d[\"user\"] = res[\"user\"]\n",
    "    d[\"user_friends\"] = user[\"friends_count\"]\n",
    "    d[\"user_followers\"] = user[\"followers_count\"]\n",
    "    d[\"user_screenname\"] = user[\"screen_name\"]\n",
    "    d[\"user_description\"] = user[\"description\"]\n",
    "    dlist.append(d)"
   ]
  },
  {
   "cell_type": "code",
   "execution_count": 78,
   "metadata": {},
   "outputs": [
    {
     "data": {
      "text/html": [
       "<div>\n",
       "<style scoped>\n",
       "    .dataframe tbody tr th:only-of-type {\n",
       "        vertical-align: middle;\n",
       "    }\n",
       "\n",
       "    .dataframe tbody tr th {\n",
       "        vertical-align: top;\n",
       "    }\n",
       "\n",
       "    .dataframe thead th {\n",
       "        text-align: right;\n",
       "    }\n",
       "</style>\n",
       "<table border=\"1\" class=\"dataframe\">\n",
       "  <thead>\n",
       "    <tr style=\"text-align: right;\">\n",
       "      <th></th>\n",
       "      <th>reply_count</th>\n",
       "      <th>retweet_count</th>\n",
       "      <th>text</th>\n",
       "      <th>user</th>\n",
       "      <th>user_description</th>\n",
       "      <th>user_followers</th>\n",
       "      <th>user_friends</th>\n",
       "      <th>user_screenname</th>\n",
       "    </tr>\n",
       "  </thead>\n",
       "  <tbody>\n",
       "    <tr>\n",
       "      <th>0</th>\n",
       "      <td>0</td>\n",
       "      <td>0</td>\n",
       "      <td>Now Playing: Tech N9ne f. Kendall Morgan, Kend...</td>\n",
       "      <td>{'id': 776128881107558401, 'id_str': '77612888...</td>\n",
       "      <td>7Six5 Live is a mobile streaming radio station...</td>\n",
       "      <td>526</td>\n",
       "      <td>201</td>\n",
       "      <td>7Six5Live</td>\n",
       "    </tr>\n",
       "    <tr>\n",
       "      <th>1</th>\n",
       "      <td>0</td>\n",
       "      <td>0</td>\n",
       "      <td>RT @Bj532x: امبي وايد حلوه 💔 https://t.co/2oDR...</td>\n",
       "      <td>{'id': 2459509949, 'id_str': '2459509949', 'na...</td>\n",
       "      <td>7Six5 Live is a mobile streaming radio station...</td>\n",
       "      <td>526</td>\n",
       "      <td>201</td>\n",
       "      <td>7Six5Live</td>\n",
       "    </tr>\n",
       "    <tr>\n",
       "      <th>2</th>\n",
       "      <td>0</td>\n",
       "      <td>0</td>\n",
       "      <td>@JayStephMD @kendricklamar Bitch can we win a ...</td>\n",
       "      <td>{'id': 805611051169566720, 'id_str': '80561105...</td>\n",
       "      <td>7Six5 Live is a mobile streaming radio station...</td>\n",
       "      <td>526</td>\n",
       "      <td>201</td>\n",
       "      <td>7Six5Live</td>\n",
       "    </tr>\n",
       "    <tr>\n",
       "      <th>3</th>\n",
       "      <td>0</td>\n",
       "      <td>0</td>\n",
       "      <td>Well this is trash cause 4:44 &amp;amp; u missed W...</td>\n",
       "      <td>{'id': 4705257927, 'id_str': '4705257927', 'na...</td>\n",
       "      <td>7Six5 Live is a mobile streaming radio station...</td>\n",
       "      <td>526</td>\n",
       "      <td>201</td>\n",
       "      <td>7Six5Live</td>\n",
       "    </tr>\n",
       "    <tr>\n",
       "      <th>4</th>\n",
       "      <td>0</td>\n",
       "      <td>0</td>\n",
       "      <td>RT @archivelyric: pray for me - the weeknd ft....</td>\n",
       "      <td>{'id': 817135604605587456, 'id_str': '81713560...</td>\n",
       "      <td>7Six5 Live is a mobile streaming radio station...</td>\n",
       "      <td>526</td>\n",
       "      <td>201</td>\n",
       "      <td>7Six5Live</td>\n",
       "    </tr>\n",
       "  </tbody>\n",
       "</table>\n",
       "</div>"
      ],
      "text/plain": [
       "   reply_count  retweet_count  \\\n",
       "0            0              0   \n",
       "1            0              0   \n",
       "2            0              0   \n",
       "3            0              0   \n",
       "4            0              0   \n",
       "\n",
       "                                                text  \\\n",
       "0  Now Playing: Tech N9ne f. Kendall Morgan, Kend...   \n",
       "1  RT @Bj532x: امبي وايد حلوه 💔 https://t.co/2oDR...   \n",
       "2  @JayStephMD @kendricklamar Bitch can we win a ...   \n",
       "3  Well this is trash cause 4:44 &amp; u missed W...   \n",
       "4  RT @archivelyric: pray for me - the weeknd ft....   \n",
       "\n",
       "                                                user  \\\n",
       "0  {'id': 776128881107558401, 'id_str': '77612888...   \n",
       "1  {'id': 2459509949, 'id_str': '2459509949', 'na...   \n",
       "2  {'id': 805611051169566720, 'id_str': '80561105...   \n",
       "3  {'id': 4705257927, 'id_str': '4705257927', 'na...   \n",
       "4  {'id': 817135604605587456, 'id_str': '81713560...   \n",
       "\n",
       "                                    user_description  user_followers  \\\n",
       "0  7Six5 Live is a mobile streaming radio station...             526   \n",
       "1  7Six5 Live is a mobile streaming radio station...             526   \n",
       "2  7Six5 Live is a mobile streaming radio station...             526   \n",
       "3  7Six5 Live is a mobile streaming radio station...             526   \n",
       "4  7Six5 Live is a mobile streaming radio station...             526   \n",
       "\n",
       "   user_friends user_screenname  \n",
       "0           201       7Six5Live  \n",
       "1           201       7Six5Live  \n",
       "2           201       7Six5Live  \n",
       "3           201       7Six5Live  \n",
       "4           201       7Six5Live  "
      ]
     },
     "execution_count": 78,
     "metadata": {},
     "output_type": "execute_result"
    }
   ],
   "source": [
    "df = pd.DataFrame(dlist)\n",
    "df.head()"
   ]
  },
  {
   "cell_type": "code",
   "execution_count": 85,
   "metadata": {},
   "outputs": [],
   "source": [
    "polarity_scores = []\n",
    "for text in df.text:\n",
    "    blob = TextBlob(text)\n",
    "    polarity, subjectivity = blob.sentiment\n",
    "    polarity_scores.append(polarity)"
   ]
  },
  {
   "cell_type": "code",
   "execution_count": 86,
   "metadata": {},
   "outputs": [
    {
     "data": {
      "text/html": [
       "<div>\n",
       "<style scoped>\n",
       "    .dataframe tbody tr th:only-of-type {\n",
       "        vertical-align: middle;\n",
       "    }\n",
       "\n",
       "    .dataframe tbody tr th {\n",
       "        vertical-align: top;\n",
       "    }\n",
       "\n",
       "    .dataframe thead th {\n",
       "        text-align: right;\n",
       "    }\n",
       "</style>\n",
       "<table border=\"1\" class=\"dataframe\">\n",
       "  <thead>\n",
       "    <tr style=\"text-align: right;\">\n",
       "      <th></th>\n",
       "      <th>reply_count</th>\n",
       "      <th>retweet_count</th>\n",
       "      <th>text</th>\n",
       "      <th>user</th>\n",
       "      <th>user_description</th>\n",
       "      <th>user_followers</th>\n",
       "      <th>user_friends</th>\n",
       "      <th>user_screenname</th>\n",
       "      <th>tweet_polarity</th>\n",
       "    </tr>\n",
       "  </thead>\n",
       "  <tbody>\n",
       "    <tr>\n",
       "      <th>0</th>\n",
       "      <td>0</td>\n",
       "      <td>0</td>\n",
       "      <td>Now Playing: Tech N9ne f. Kendall Morgan, Kend...</td>\n",
       "      <td>{'id': 776128881107558401, 'id_str': '77612888...</td>\n",
       "      <td>7Six5 Live is a mobile streaming radio station...</td>\n",
       "      <td>526</td>\n",
       "      <td>201</td>\n",
       "      <td>7Six5Live</td>\n",
       "      <td>0.0</td>\n",
       "    </tr>\n",
       "    <tr>\n",
       "      <th>1</th>\n",
       "      <td>0</td>\n",
       "      <td>0</td>\n",
       "      <td>RT @Bj532x: امبي وايد حلوه 💔 https://t.co/2oDR...</td>\n",
       "      <td>{'id': 2459509949, 'id_str': '2459509949', 'na...</td>\n",
       "      <td>7Six5 Live is a mobile streaming radio station...</td>\n",
       "      <td>526</td>\n",
       "      <td>201</td>\n",
       "      <td>7Six5Live</td>\n",
       "      <td>0.0</td>\n",
       "    </tr>\n",
       "    <tr>\n",
       "      <th>2</th>\n",
       "      <td>0</td>\n",
       "      <td>0</td>\n",
       "      <td>@JayStephMD @kendricklamar Bitch can we win a ...</td>\n",
       "      <td>{'id': 805611051169566720, 'id_str': '80561105...</td>\n",
       "      <td>7Six5 Live is a mobile streaming radio station...</td>\n",
       "      <td>526</td>\n",
       "      <td>201</td>\n",
       "      <td>7Six5Live</td>\n",
       "      <td>0.2</td>\n",
       "    </tr>\n",
       "    <tr>\n",
       "      <th>3</th>\n",
       "      <td>0</td>\n",
       "      <td>0</td>\n",
       "      <td>Well this is trash cause 4:44 &amp;amp; u missed W...</td>\n",
       "      <td>{'id': 4705257927, 'id_str': '4705257927', 'na...</td>\n",
       "      <td>7Six5 Live is a mobile streaming radio station...</td>\n",
       "      <td>526</td>\n",
       "      <td>201</td>\n",
       "      <td>7Six5Live</td>\n",
       "      <td>0.0</td>\n",
       "    </tr>\n",
       "    <tr>\n",
       "      <th>4</th>\n",
       "      <td>0</td>\n",
       "      <td>0</td>\n",
       "      <td>RT @archivelyric: pray for me - the weeknd ft....</td>\n",
       "      <td>{'id': 817135604605587456, 'id_str': '81713560...</td>\n",
       "      <td>7Six5 Live is a mobile streaming radio station...</td>\n",
       "      <td>526</td>\n",
       "      <td>201</td>\n",
       "      <td>7Six5Live</td>\n",
       "      <td>0.0</td>\n",
       "    </tr>\n",
       "  </tbody>\n",
       "</table>\n",
       "</div>"
      ],
      "text/plain": [
       "   reply_count  retweet_count  \\\n",
       "0            0              0   \n",
       "1            0              0   \n",
       "2            0              0   \n",
       "3            0              0   \n",
       "4            0              0   \n",
       "\n",
       "                                                text  \\\n",
       "0  Now Playing: Tech N9ne f. Kendall Morgan, Kend...   \n",
       "1  RT @Bj532x: امبي وايد حلوه 💔 https://t.co/2oDR...   \n",
       "2  @JayStephMD @kendricklamar Bitch can we win a ...   \n",
       "3  Well this is trash cause 4:44 &amp; u missed W...   \n",
       "4  RT @archivelyric: pray for me - the weeknd ft....   \n",
       "\n",
       "                                                user  \\\n",
       "0  {'id': 776128881107558401, 'id_str': '77612888...   \n",
       "1  {'id': 2459509949, 'id_str': '2459509949', 'na...   \n",
       "2  {'id': 805611051169566720, 'id_str': '80561105...   \n",
       "3  {'id': 4705257927, 'id_str': '4705257927', 'na...   \n",
       "4  {'id': 817135604605587456, 'id_str': '81713560...   \n",
       "\n",
       "                                    user_description  user_followers  \\\n",
       "0  7Six5 Live is a mobile streaming radio station...             526   \n",
       "1  7Six5 Live is a mobile streaming radio station...             526   \n",
       "2  7Six5 Live is a mobile streaming radio station...             526   \n",
       "3  7Six5 Live is a mobile streaming radio station...             526   \n",
       "4  7Six5 Live is a mobile streaming radio station...             526   \n",
       "\n",
       "   user_friends user_screenname  tweet_polarity  \n",
       "0           201       7Six5Live             0.0  \n",
       "1           201       7Six5Live             0.0  \n",
       "2           201       7Six5Live             0.2  \n",
       "3           201       7Six5Live             0.0  \n",
       "4           201       7Six5Live             0.0  "
      ]
     },
     "execution_count": 86,
     "metadata": {},
     "output_type": "execute_result"
    }
   ],
   "source": [
    "df[\"tweet_polarity\"] = polarity_scores\n",
    "df.head()"
   ]
  },
  {
   "cell_type": "code",
   "execution_count": null,
   "metadata": {},
   "outputs": [],
   "source": []
  },
  {
   "cell_type": "markdown",
   "metadata": {},
   "source": [
    "### Assessment"
   ]
  }
 ],
 "metadata": {
  "kernelspec": {
   "display_name": "Python 3",
   "language": "python",
   "name": "python3"
  },
  "language_info": {
   "codemirror_mode": {
    "name": "ipython",
    "version": 3
   },
   "file_extension": ".py",
   "mimetype": "text/x-python",
   "name": "python",
   "nbconvert_exporter": "python",
   "pygments_lexer": "ipython3",
   "version": "3.7.3"
  }
 },
 "nbformat": 4,
 "nbformat_minor": 2
}
